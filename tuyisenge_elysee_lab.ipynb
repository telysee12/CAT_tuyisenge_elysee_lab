{
 "cells": [
  {
   "cell_type": "code",
   "execution_count": 1,
   "metadata": {},
   "outputs": [
    {
     "name": "stdout",
     "output_type": "stream",
     "text": [
      "Database created successfully!\n"
     ]
    }
   ],
   "source": [
    "# datbase creation\n",
    "import mysql.connector\n",
    "conn = mysql.connector.connect(host=\"localhost\", user=\"root\", password=\"\")\n",
    "cursor = conn.cursor()\n",
    "my_db = \"tuyiseng_elysee_lab\"\n",
    "try:\n",
    "    cursor.execute(f\"CREATE DATABASE {my_db} \")\n",
    "    print(\"Database created successfully!\")\n",
    "except:\n",
    "    print(f\"Failed to create database called: {my_db}\")"
   ]
  },
  {
   "cell_type": "code",
   "execution_count": 88,
   "metadata": {},
   "outputs": [],
   "source": [
    " # Connect to MySQL database\n",
    "my_db=\"tuyiseng_elysee_lab\"\n",
    "table = \"programmes\"\n",
    "conn = mysql.connector.connect(host=\"localhost\", user=\"root\", password=\"\", database=my_db)\n",
    "cursor = conn.cursor()"
   ]
  },
  {
   "cell_type": "code",
   "execution_count": null,
   "metadata": {},
   "outputs": [
    {
     "name": "stdout",
     "output_type": "stream",
     "text": [
      "users Table created successfully!\n"
     ]
    }
   ],
   "source": [
    "try:\n",
    "    cursor.execute(\"\"\"\n",
    "    CREATE TABLE users (\n",
    "        user_id INT AUTO_INCREMENT PRIMARY KEY,\n",
    "        fname VARCHAR(40),\n",
    "        lname VARCHAR(40),\n",
    "        email VARCHAR(100) UNIQUE,\n",
    "        phone VARCHAR(20),\n",
    "        password VARCHAR(255),\n",
    "        role_id INT,\n",
    "        status ENUM('Active','Inactive') NOT NULL,\n",
    "        FOREIGN KEY (role_id) REFERENCES User_roles(role_id)\n",
    "    )\n",
    "    \"\"\")\n",
    "    print(\"users Table created successfully!\")\n",
    "except:\n",
    "    print(\"Failed to create the users table.\")"
   ]
  },
  {
   "cell_type": "code",
   "execution_count": 33,
   "metadata": {},
   "outputs": [
    {
     "name": "stdout",
     "output_type": "stream",
     "text": [
      "1 New user record inserted successfully with a hashed password!\n"
     ]
    }
   ],
   "source": [
    "import bcrypt  # Import bcrypt for password hashing\n",
    "try:\n",
    "    # User details\n",
    "    fname = \"John\"\n",
    "    lname = \"Doe\"\n",
    "    email = \"johndoe@example.com\"\n",
    "    phone = \"0781234567\"\n",
    "    role_id = 1\n",
    "    status = \"Active\"\n",
    "    plain_password = \"mypassword123\"  # User's raw password\n",
    "\n",
    "    # Hash the password with bcrypt\n",
    "    salt = bcrypt.gensalt()  # Generate salt\n",
    "    hashed_password = bcrypt.hashpw(plain_password.encode('utf-8'), salt)  # Hash password\n",
    "\n",
    "    # Insert data into users table\n",
    "    sql = \"\"\"\n",
    "    INSERT INTO users (fname, lname, email, phone, password, role_id, status) \n",
    "    VALUES (%s, %s, %s, %s, %s, %s, %s)\n",
    "    \"\"\"\n",
    "    \n",
    "    values = (fname, lname, email, phone, hashed_password, role_id, status)\n",
    "\n",
    "    cursor.execute(sql, values)\n",
    "    conn.commit()\n",
    "\n",
    "    print(cursor.rowcount, \"New user record inserted successfully with a hashed password!\")\n",
    "\n",
    "except mysql.connector.Error as err:\n",
    "    print(f\"Failed to insert data into users table: {err}\")\n",
    "\n",
    "finally:\n",
    "    if cursor:\n",
    "        cursor.close()\n",
    "    if conn:\n",
    "        conn.close()\n"
   ]
  },
  {
   "cell_type": "code",
   "execution_count": 45,
   "metadata": {},
   "outputs": [
    {
     "name": "stdout",
     "output_type": "stream",
     "text": [
      "(1, 'John', 'Doe', 'johndoe@example.com', '0781234567', '$2b$12$IsqjDYY5/.EISYo.Ox/ViuXr0fLys9WcGFLBDCEJ4QhPiDRdMYp2.', 1, 'Active')\n"
     ]
    }
   ],
   "source": [
    "try:\n",
    "    # Execute the SELECT query to fetch all data from the users table\n",
    "    cursor.execute(\"SELECT * FROM users\")\n",
    "    \n",
    "    # Fetch all records\n",
    "    users = cursor.fetchall()\n",
    "    \n",
    "    # Check if records were returned\n",
    "    if users:\n",
    "        for user in users:\n",
    "            print(user)  # Print each user record (tuple format)\n",
    "    else:\n",
    "        print(\"No records found in the users table.\")\n",
    "    \n",
    "except mysql.connector.Error as err:\n",
    "    print(f\"Failed to fetch data from the users table: {err}\")\n"
   ]
  },
  {
   "cell_type": "code",
   "execution_count": 89,
   "metadata": {},
   "outputs": [
    {
     "name": "stdout",
     "output_type": "stream",
     "text": [
      "No user found with ID 1 or the status was already 'Inactive'.\n"
     ]
    }
   ],
   "source": [
    "try:\n",
    "    # SQL query to update the status of a user to 'Inactive'\n",
    "    sql = \"\"\"\n",
    "    UPDATE users \n",
    "    SET status = 'Inactive' \n",
    "    WHERE user_id = %s\n",
    "    \"\"\"\n",
    "    # User ID to deactivate (this would typically be provided dynamically)\n",
    "    user_id = 1  # Example user_id for deactivation\n",
    "\n",
    "    # Execute the update query with the user_id\n",
    "    cursor.execute(sql, (user_id,))\n",
    "    conn.commit()  # Commit the transaction to apply changes\n",
    "\n",
    "    # Check how many records were updated\n",
    "    if cursor.rowcount > 0:\n",
    "        print(f\"User with ID {user_id} has been deactivated successfully!\")\n",
    "    else:\n",
    "        print(f\"No user found with ID {user_id} or the status was already 'Inactive'.\")\n",
    "\n",
    "except mysql.connector.Error as err:\n",
    "    # Catch any MySQL-specific errors and print the error message\n",
    "    print(f\"Failed to update the user status: {err}\")\n",
    "\n",
    "finally:\n",
    "    # Ensure the cursor and connection are closed after the operation\n",
    "    if cursor:\n",
    "        cursor.close()\n",
    "    if conn:\n",
    "        conn.close()\n"
   ]
  },
  {
   "cell_type": "code",
   "execution_count": 9,
   "metadata": {},
   "outputs": [
    {
     "name": "stdout",
     "output_type": "stream",
     "text": [
      " User_roles Table created successfully!\n"
     ]
    }
   ],
   "source": [
    "try:\n",
    "    cursor.execute(\"\"\"\n",
    "    CREATE TABLE User_roles (\n",
    "        role_id INT AUTO_INCREMENT PRIMARY KEY,\n",
    "        role_name ENUM('admin', 'student', 'technician') NOT NULL\n",
    "    )\n",
    "    \"\"\")\n",
    "    print(\" User_roles Table created successfully!\")\n",
    "except:\n",
    "    print(\"Failed to create the User_roles table.\")\n",
    " "
   ]
  },
  {
   "cell_type": "code",
   "execution_count": 27,
   "metadata": {},
   "outputs": [
    {
     "name": "stdout",
     "output_type": "stream",
     "text": [
      "3 records inserted successfully into User_roles table!\n"
     ]
    }
   ],
   "source": [
    "try:\n",
    "    # SQL query to insert data\n",
    "    sql = \"INSERT INTO User_roles (role_name) VALUES (%s)\"\n",
    "    values = [\n",
    "        ('admin',),\n",
    "        ('student',),\n",
    "        ('technician',)\n",
    "    ]\n",
    "    cursor.executemany(sql, values)  # Insert multiple records at once\n",
    "    conn.commit()\n",
    "\n",
    "    print(cursor.rowcount, \"records inserted successfully into User_roles table!\")\n",
    "\n",
    "except mysql.connector.Error as err:\n",
    "    print(f\"Failed to insert data into User_roles table: {err}\")\n",
    "\n",
    "finally:\n",
    "    if cursor:\n",
    "        cursor.close()\n",
    "    if conn:\n",
    "        conn.close()"
   ]
  },
  {
   "cell_type": "code",
   "execution_count": 46,
   "metadata": {},
   "outputs": [
    {
     "name": "stdout",
     "output_type": "stream",
     "text": [
      "(1, 'admin')\n",
      "(2, 'student')\n",
      "(3, 'technician')\n"
     ]
    }
   ],
   "source": [
    "try:\n",
    "    # Execute the SELECT query to fetch all data from the user_roles table\n",
    "    cursor.execute(\"SELECT * FROM user_roles\")\n",
    "    \n",
    "    # Fetch all records returned by the query\n",
    "    roles = cursor.fetchall()\n",
    "\n",
    "    # Check if any records were returned\n",
    "    if roles:\n",
    "        # Iterate over the records and print each role\n",
    "        for role in roles:\n",
    "            print(role)  # Each role is returned as a tuple\n",
    "    else:\n",
    "        print(\"No records found in the user_roles table.\")  # If no records exist\n",
    "\n",
    "except mysql.connector.Error as err:\n",
    "    # Catch any MySQL-specific errors and print the error message\n",
    "    print(f\"Failed to fetch data from the user_roles table: {err}\")\n"
   ]
  },
  {
   "cell_type": "code",
   "execution_count": 80,
   "metadata": {},
   "outputs": [
    {
     "name": "stdout",
     "output_type": "stream",
     "text": [
      "0 record(s) updated successfully in User_roles table!\n"
     ]
    }
   ],
   "source": [
    "try:\n",
    "    # SQL query to update a user's role in the User_roles table (example update operation)\n",
    "    sql = \"\"\"\n",
    "    UPDATE User_roles \n",
    "    SET role_name = %s \n",
    "    WHERE role_id = %s\n",
    "    \"\"\"\n",
    "    # Values to be updated: role_name and the role_id of the user to be updated\n",
    "    values = ('administrator', 1)  # Updating role_name for role_id 1 (e.g., changing 'admin' to 'administrator')\n",
    "\n",
    "    # Execute the update query with the provided values\n",
    "    cursor.execute(sql, values)\n",
    "    conn.commit()  # Commit the transaction to apply changes\n",
    "\n",
    "    print(cursor.rowcount, \"record(s) updated successfully in User_roles table!\")\n",
    "\n",
    "except mysql.connector.Error as err:\n",
    "    # Catch any MySQL-specific errors and print the error message\n",
    "    print(f\"Failed to update data in User_roles table: {err}\")\n",
    "\n",
    "finally:\n",
    "    # Ensure the cursor and connection are closed after the operation\n",
    "    if cursor:\n",
    "        cursor.close()\n",
    "    if conn:\n",
    "        conn.close()\n"
   ]
  },
  {
   "cell_type": "code",
   "execution_count": 83,
   "metadata": {},
   "outputs": [
    {
     "name": "stdout",
     "output_type": "stream",
     "text": [
      "(3, 'technician')\n",
      "(2, 'student')\n",
      "(1, '')\n"
     ]
    }
   ],
   "source": [
    "try:\n",
    "    # Execute the SELECT query to fetch all data from the user_roles table\n",
    "    cursor.execute(\"SELECT * FROM user_roles ORDER BY role_id DESC\")  # Order by role_id in descending order\n",
    "    \n",
    "    # Fetch all records returned by the query\n",
    "    roles = cursor.fetchall()\n",
    "\n",
    "    # Check if any records were returned\n",
    "    if roles:\n",
    "        # Iterate over the records and print each role\n",
    "        for role in roles:\n",
    "            print(role)  # Each role is returned as a tuple\n",
    "    else:\n",
    "        print(\"No records found in the user_roles table.\")  # If no records exist\n",
    "\n",
    "except mysql.connector.Error as err:\n",
    "    # Catch any MySQL-specific errors and print the error message\n",
    "    print(f\"Failed to fetch data from the user_roles table: {err}\")\n"
   ]
  },
  {
   "cell_type": "code",
   "execution_count": 13,
   "metadata": {},
   "outputs": [
    {
     "name": "stdout",
     "output_type": "stream",
     "text": [
      " computers Table created successfully!\n"
     ]
    }
   ],
   "source": [
    "try:\n",
    "    cursor.execute(\"\"\"\n",
    "    CREATE TABLE computers (\n",
    "        computer_id INT AUTO_INCREMENT PRIMARY KEY,\n",
    "        computer_name VARCHAR(100),         \n",
    "        status ENUM('Available', 'Reserved', 'Under Maintenance') NOT NULL\n",
    "    )\n",
    "    \"\"\")\n",
    "    print(\" computers Table created successfully!\")\n",
    "except:\n",
    "    print(\"Failed to create the computers table.\")"
   ]
  },
  {
   "cell_type": "code",
   "execution_count": 68,
   "metadata": {},
   "outputs": [
    {
     "name": "stdout",
     "output_type": "stream",
     "text": [
      "3 records inserted successfully into computers table!\n"
     ]
    }
   ],
   "source": [
    "try:\n",
    "    # Insert data INTO computers table\n",
    "    sql = \"INSERT INTO computers (computer_name, status) VALUES (%s, %s)\"\n",
    "    values = [\n",
    "        (\"Computer A\", \"Available\"),\n",
    "        (\"Computer B\", \"Reserved\"),\n",
    "        (\"Computer C\", \"Under Maintenance\")\n",
    "    ]\n",
    "\n",
    "    cursor.executemany(sql, values)\n",
    "    conn.commit()\n",
    "\n",
    "    print(cursor.rowcount, \"records inserted successfully into computers table!\")\n",
    "\n",
    "except mysql.connector.Error as err:\n",
    "    print(f\"Failed to insert data into computers table: {err}\")\n",
    "\n",
    "finally:\n",
    "    if cursor:\n",
    "        cursor.close()\n",
    "    if conn:\n",
    "        conn.close()\n"
   ]
  },
  {
   "cell_type": "code",
   "execution_count": 47,
   "metadata": {},
   "outputs": [
    {
     "name": "stdout",
     "output_type": "stream",
     "text": [
      "(1, 'Computer A', 'Available')\n",
      "(2, 'Computer B', 'Reserved')\n",
      "(3, 'Computer C', 'Under Maintenance')\n"
     ]
    }
   ],
   "source": [
    "try:\n",
    "    # Execute the SELECT query to fetch all data from the computers table\n",
    "    cursor.execute(\"SELECT * FROM computers\")\n",
    "    \n",
    "    # Fetch all records returned by the query\n",
    "    computers = cursor.fetchall()\n",
    "\n",
    "    # Check if any records were returned\n",
    "    if computers:\n",
    "        # Iterate over the records and print each computer's details\n",
    "        for computer in computers:\n",
    "            print(computer)  # Each record will be a tuple (computer_id, computer_name, status)\n",
    "    else:\n",
    "        print(\"No records found in the computers table.\")  # If no records exist\n",
    "\n",
    "except mysql.connector.Error as err:\n",
    "    # Catch any MySQL-specific errors and print the error message\n",
    "    print(f\"Failed to fetch data from the computers table: {err}\")\n"
   ]
  },
  {
   "cell_type": "code",
   "execution_count": 74,
   "metadata": {},
   "outputs": [
    {
     "name": "stdout",
     "output_type": "stream",
     "text": [
      "2 record(s) updated successfully in computers table!\n",
      "(1, 'Computer A', 'Under Maintenance')\n",
      "(2, 'Computer B', 'Reserved')\n",
      "(3, 'Computer C', 'Under Maintenance')\n",
      "(4, 'Computer A', 'Under Maintenance')\n",
      "(5, 'Computer B', 'Reserved')\n",
      "(6, 'Computer C', 'Under Maintenance')\n"
     ]
    }
   ],
   "source": [
    "try:\n",
    "    # Perform the UPDATE operation\n",
    "    update_sql = \"\"\"\n",
    "    UPDATE computers\n",
    "    SET status = %s\n",
    "    WHERE computer_name = %s\n",
    "    \"\"\"\n",
    "    # Example update: Change the status of \"Computer A\" to \"Under Maintenance\"\n",
    "    update_values = (\"Under Maintenance\", \"Computer A\")\n",
    "    \n",
    "    # Execute the update query\n",
    "    cursor.execute(update_sql, update_values)\n",
    "    conn.commit()  # Commit the transaction to save changes\n",
    "\n",
    "    print(cursor.rowcount, \"record(s) updated successfully in computers table!\")\n",
    "\n",
    "    # Retrieve and display the updated table\n",
    "    select_sql = \"SELECT * FROM computers\"\n",
    "    cursor.execute(select_sql)\n",
    "    updated_records = cursor.fetchall()  # Fetch all records from the table\n",
    "\n",
    "    # Print the updated records\n",
    "    if updated_records:\n",
    "        for record in updated_records:\n",
    "            print(record)  # Each record will be a tuple (computer_id, computer_name, status)\n",
    "    else:\n",
    "        print(\"No records found in the computers table.\")\n",
    "\n",
    "except mysql.connector.Error as err:\n",
    "    # Catch and display any MySQL-specific errors\n",
    "    print(f\"Failed to update data in computers table: {err}\")\n",
    "\n",
    "finally:\n",
    "    # Ensure the cursor and connection are closed after the operation\n",
    "    if cursor:\n",
    "        cursor.close()\n",
    "    if conn:\n",
    "        conn.close()\n"
   ]
  },
  {
   "cell_type": "code",
   "execution_count": 84,
   "metadata": {},
   "outputs": [
    {
     "name": "stdout",
     "output_type": "stream",
     "text": [
      "(6, 'Computer C', 'Under Maintenance')\n",
      "(5, 'Computer B', 'Reserved')\n",
      "(4, 'Computer A', 'Under Maintenance')\n",
      "(3, 'Computer C', 'Under Maintenance')\n",
      "(2, 'Computer B', 'Reserved')\n",
      "(1, 'Computer A', 'Under Maintenance')\n"
     ]
    }
   ],
   "source": [
    "try:\n",
    "    # Execute the SELECT query to fetch all data from the computers table, ordered by computer_id in descending order\n",
    "    cursor.execute(\"SELECT * FROM computers ORDER BY computer_id DESC\")  # Sort by computer_id in descending order\n",
    "    \n",
    "    # Fetch all records returned by the query\n",
    "    computers = cursor.fetchall()\n",
    "\n",
    "    # Check if any records were returned\n",
    "    if computers:\n",
    "        # Iterate over the records and print each computer's details\n",
    "        for computer in computers:\n",
    "            print(computer)  # Each record will be a tuple (computer_id, computer_name, status)\n",
    "    else:\n",
    "        print(\"No records found in the computers table.\")  # If no records exist\n",
    "\n",
    "except mysql.connector.Error as err:\n",
    "    # Catch any MySQL-specific errors and print the error message\n",
    "    print(f\"Failed to fetch data from the computers table: {err}\")\n"
   ]
  },
  {
   "cell_type": "code",
   "execution_count": null,
   "metadata": {},
   "outputs": [],
   "source": []
  },
  {
   "cell_type": "code",
   "execution_count": 85,
   "metadata": {},
   "outputs": [
    {
     "name": "stdout",
     "output_type": "stream",
     "text": [
      "(2, 'Computer B', 'Reserved', 1, 'Active')\n"
     ]
    }
   ],
   "source": [
    "try:\n",
    "    # Execute the SELECT query to join the computers and reservations tables\n",
    "    cursor.execute(\"\"\"\n",
    "    SELECT \n",
    "        computers.computer_id, \n",
    "        computers.computer_name, \n",
    "        computers.status AS computer_status,\n",
    "        reservations.reservation_id, \n",
    "        reservations.reservation_status AS reservation_status\n",
    "    FROM \n",
    "        computers\n",
    "    JOIN \n",
    "        reservations\n",
    "    ON \n",
    "        computers.computer_id = reservations.computer_id\n",
    "    \"\"\")\n",
    "    \n",
    "    # Fetch all records returned by the query\n",
    "    results = cursor.fetchall()\n",
    "\n",
    "    # Check if any records were returned\n",
    "    if results:\n",
    "        # Iterate over the records and print the details of each joined result\n",
    "        for result in results:\n",
    "            print(result)  # Each result will be a tuple with combined data from both tables\n",
    "    else:\n",
    "        print(\"No records found from the JOIN operation.\")\n",
    "\n",
    "except mysql.connector.Error as err:\n",
    "    # Catch any MySQL-specific errors and print the error message\n",
    "    print(f\"Failed to fetch data using JOIN operation: {err}\")\n"
   ]
  },
  {
   "cell_type": "code",
   "execution_count": 25,
   "metadata": {},
   "outputs": [
    {
     "name": "stdout",
     "output_type": "stream",
     "text": [
      " reservations Table created successfully!\n"
     ]
    }
   ],
   "source": [
    "try:\n",
    "    cursor.execute(\"\"\"\n",
    "    CREATE TABLE reservations (\n",
    "        reservation_id INT AUTO_INCREMENT PRIMARY KEY,\n",
    "        user_id INT,\n",
    "        computer_id INT,\n",
    "        reservation_date DATETIME DEFAULT CURRENT_TIMESTAMP,      \n",
    "        reservation_status ENUM('Active', 'Completed', 'Cancelled') NOT NULL,\n",
    "        FOREIGN KEY (user_id) REFERENCES users(user_id),\n",
    "        FOREIGN KEY (computer_id) REFERENCES computers(computer_id)\n",
    "    \n",
    "    )\n",
    "    \"\"\")\n",
    "    print(\" reservations Table created successfully!\")\n",
    "except:\n",
    "    print(\"Failed to create the reservations table.\")"
   ]
  },
  {
   "cell_type": "code",
   "execution_count": 36,
   "metadata": {},
   "outputs": [
    {
     "name": "stdout",
     "output_type": "stream",
     "text": [
      "1 reservation inserted successfully!\n"
     ]
    }
   ],
   "source": [
    "try:\n",
    "    sql = \"\"\"\n",
    "    INSERT INTO reservations (user_id, computer_id, reservation_status)\n",
    "    VALUES (%s, %s, %s)\n",
    "    \"\"\"\n",
    "    \n",
    "    values = (1, 2, 'Active')  # Replace with actual user_id & computer_id\n",
    "\n",
    "    cursor.execute(sql, values)\n",
    "    conn.commit()\n",
    "    \n",
    "    print(f\"{cursor.rowcount} reservation inserted successfully!\")\n",
    "\n",
    "except mysql.connector.Error as err:\n",
    "    print(f\"Failed to insert reservation: {err}\")\n"
   ]
  },
  {
   "cell_type": "code",
   "execution_count": 48,
   "metadata": {},
   "outputs": [
    {
     "name": "stdout",
     "output_type": "stream",
     "text": [
      "(1, 1, 2, datetime.datetime(2025, 3, 17, 16, 37, 55), 'Active')\n"
     ]
    }
   ],
   "source": [
    "try:\n",
    "    # Execute the SELECT query to fetch all data from the reservations table\n",
    "    cursor.execute(\"SELECT * FROM reservations\")\n",
    "    \n",
    "    # Fetch all records returned by the query\n",
    "    reservations = cursor.fetchall()\n",
    "\n",
    "    # Check if any records were returned\n",
    "    if reservations:\n",
    "        # Iterate over the records and print each reservation's details\n",
    "        for reservation in reservations:\n",
    "            print(reservation)  # Each record will be a tuple (reservation_id, user_id, computer_id, reservation_date, reservation_status)\n",
    "    else:\n",
    "        print(\"No records found in the reservations table.\")  # If no records exist\n",
    "\n",
    "except mysql.connector.Error as err:\n",
    "    # Catch any MySQL-specific errors and print the error message\n",
    "    print(f\"Failed to fetch data from the reservations table: {err}\")\n"
   ]
  },
  {
   "cell_type": "code",
   "execution_count": 26,
   "metadata": {},
   "outputs": [
    {
     "name": "stdout",
     "output_type": "stream",
     "text": [
      "maintenance Table created successfully!\n"
     ]
    }
   ],
   "source": [
    "try:\n",
    "    cursor.execute(\"\"\"\n",
    "    CREATE TABLE maintenance (\n",
    "        maintenance_id INT AUTO_INCREMENT PRIMARY KEY,\n",
    "        computer_id INT,\n",
    "        maintenance_date DATETIME DEFAULT CURRENT_TIMESTAMP,      \n",
    "        description VARCHAR(100),\n",
    "        FOREIGN KEY (computer_id) REFERENCES computers(computer_id)\n",
    "    \n",
    "    )\n",
    "    \"\"\")\n",
    "    print(\"maintenance Table created successfully!\")\n",
    "except:\n",
    "    print(\"Failed to create the maintenance table.\")"
   ]
  },
  {
   "cell_type": "code",
   "execution_count": 44,
   "metadata": {},
   "outputs": [
    {
     "name": "stdout",
     "output_type": "stream",
     "text": [
      "1 record inserted successfully into the maintenance table!\n"
     ]
    }
   ],
   "source": [
    "try:\n",
    "    # Insert data into the maintenance table\n",
    "    sql = \"\"\"\n",
    "    INSERT INTO maintenance (computer_id, description) \n",
    "    VALUES (%s, %s)\n",
    "    \"\"\"\n",
    "    \n",
    "    values = (2, 'Regular maintenance check')  # Replace with actual values if needed\n",
    "\n",
    "    cursor.execute(sql, values)\n",
    "    conn.commit()  # Commit the transaction to save the changes\n",
    "    \n",
    "    print(f\"{cursor.rowcount} record inserted successfully into the maintenance table!\")\n",
    "\n",
    "except mysql.connector.Error as err:\n",
    "    print(f\"Failed to insert data into the maintenance table: {err}\")\n",
    "\n"
   ]
  },
  {
   "cell_type": "code",
   "execution_count": 49,
   "metadata": {},
   "outputs": [
    {
     "name": "stdout",
     "output_type": "stream",
     "text": [
      "(1, 1, datetime.datetime(2025, 3, 17, 16, 40, 44), 'Regular maintenance check')\n",
      "(2, 1, datetime.datetime(2025, 3, 17, 16, 42, 26), 'Regular maintenance check')\n",
      "(3, 3, datetime.datetime(2025, 3, 17, 16, 46, 17), 'Regular maintenance check')\n",
      "(6, 1, datetime.datetime(2025, 3, 17, 16, 48, 33), 'Regular maintenance check')\n",
      "(7, 2, datetime.datetime(2025, 3, 17, 16, 48, 40), 'Regular maintenance check')\n"
     ]
    }
   ],
   "source": [
    "try:\n",
    "    # Execute the SELECT query to fetch all data from the maintenance table\n",
    "    cursor.execute(\"SELECT * FROM maintenance\")\n",
    "    \n",
    "    # Fetch all records returned by the query\n",
    "    maintenance_records = cursor.fetchall()\n",
    "\n",
    "    # Check if any records were returned\n",
    "    if maintenance_records:\n",
    "        # Iterate over the records and print each maintenance record's details\n",
    "        for record in maintenance_records:\n",
    "            print(record)  # Each record will be a tuple (maintenance_id, computer_id, maintenance_date, description)\n",
    "    else:\n",
    "        print(\"No records found in the maintenance table.\")  # If no records exist\n",
    "\n",
    "except mysql.connector.Error as err:\n",
    "    # Catch any MySQL-specific errors and print the error message\n",
    "    print(f\"Failed to fetch data from the maintenance table: {err}\")\n"
   ]
  }
 ],
 "metadata": {
  "kernelspec": {
   "display_name": "Python 3",
   "language": "python",
   "name": "python3"
  },
  "language_info": {
   "codemirror_mode": {
    "name": "ipython",
    "version": 3
   },
   "file_extension": ".py",
   "mimetype": "text/x-python",
   "name": "python",
   "nbconvert_exporter": "python",
   "pygments_lexer": "ipython3",
   "version": "3.13.1"
  }
 },
 "nbformat": 4,
 "nbformat_minor": 2
}
